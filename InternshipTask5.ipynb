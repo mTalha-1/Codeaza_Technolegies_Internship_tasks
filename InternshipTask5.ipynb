{
  "nbformat": 4,
  "nbformat_minor": 0,
  "metadata": {
    "colab": {
      "private_outputs": true,
      "provenance": [],
      "authorship_tag": "ABX9TyPK10Qb9p8tqa+uiMYT8FtZ",
      "include_colab_link": true
    },
    "kernelspec": {
      "name": "python3",
      "display_name": "Python 3"
    },
    "language_info": {
      "name": "python"
    }
  },
  "cells": [
    {
      "cell_type": "markdown",
      "metadata": {
        "id": "view-in-github",
        "colab_type": "text"
      },
      "source": [
        "<a href=\"https://colab.research.google.com/github/mTalha-1/Codeaza_Technolegies_Internship_tasks/blob/main/InternshipTask5.ipynb\" target=\"_parent\"><img src=\"https://colab.research.google.com/assets/colab-badge.svg\" alt=\"Open In Colab\"/></a>"
      ]
    },
    {
      "cell_type": "markdown",
      "source": [
        "# HTTP Request\n",
        "\n",
        "* **HTTP (Hypertext Transfer Protocol) request** is a message sent by a client to a server in the context of a client-server communication over the internet. It is a fundamental part of how web browsers and web servers communicate and exchange data.\n",
        "* An HTTP request consists of a request line, headers, and an optional body containing data."
      ],
      "metadata": {
        "id": "X-yufC2nDVDm"
      }
    },
    {
      "cell_type": "markdown",
      "source": [
        "## HTTP Request Structure\n",
        "An HTTP request consists of a request line, headers, and an optional body containing data.<br>\n",
        "\n"
      ],
      "metadata": {
        "id": "ONglBi2xN1P6"
      }
    },
    {
      "cell_type": "markdown",
      "source": [
        "### Request Line\n",
        "The request line includes the HTTP method, the target URL or URI (Uniform Resource Identifier), and the HTTP protocol version.<br>\n"
      ],
      "metadata": {
        "id": "dR4eIWNVUlhD"
      }
    },
    {
      "cell_type": "markdown",
      "source": [
        "#### Request URI(Uniform Resource Identifier)\n",
        "A Request URI (Uniform Resource Identifier) is a string that identifies the specific resource or endpoint that a client wants to interact with on a server. The Request URI is composed of several parts such as host, port, path, query parameter, etc."
      ],
      "metadata": {
        "id": "q0cdTTAfUpbF"
      }
    },
    {
      "cell_type": "markdown",
      "source": [
        "### Request Headers\n",
        "Headers provide additional information about the request, such as the user agent, content type, and accepted response formats. They can be used to pass authentication credentials, control caching behavior, and convey other metadata."
      ],
      "metadata": {
        "id": "W8apJWUJUybQ"
      }
    },
    {
      "cell_type": "markdown",
      "source": [
        "### Request Body\n",
        "The optional body of an HTTP request contains data sent by the client, typically used with methods like POST and PUT to send information to the server."
      ],
      "metadata": {
        "id": "mNx--dJTXb_P"
      }
    },
    {
      "cell_type": "markdown",
      "source": [
        "## Request Methods\n",
        "The HTTP method indicates the type of operation the client wants to perform on the server's resource.\n",
        ">There are several common HTTP methods or verbs used in requests:\n",
        "1. GET: Retrieves a representation of the specified resource.\n",
        "1. POST: Submits data to be processed by the server, often used for submitting form data.\n",
        "1. PUT: Updates a resource with the provided data.\n",
        "1. DELETE: Deletes the specified resource.\n",
        "1. HEAD: Retrieves the headers of the specified resource without the response body or actual content."
      ],
      "metadata": {
        "id": "cqw3scetDkFU"
      }
    },
    {
      "cell_type": "code",
      "source": [
        "# Get Request\n",
        "import requests\n",
        "\n",
        "# The API endpoint\n",
        "url = \"https://hdtoday.tv/movie\"\n",
        "\n",
        "# A GET request to the API\n",
        "response = requests.get(url)\n",
        "print(response.status_code)\n",
        "print(response.content)"
      ],
      "metadata": {
        "id": "k603vaMXgZWS"
      },
      "execution_count": null,
      "outputs": []
    },
    {
      "cell_type": "code",
      "source": [
        "# Post Request\n",
        "new_data = {\n",
        "    \"userID\": 1,\n",
        "    \"id\": 1,\n",
        "    \"title\": \"Making a POST request\",\n",
        "    \"body\": \"This is the data we created.\"\n",
        "}\n",
        "\n",
        "url_post = \"https://jsonplaceholder.typicode.com/posts\"\n",
        "\n",
        "post_response = requests.post(url_post, json=new_data)\n",
        "\n",
        "post_response_json = post_response.json()\n",
        "print(post_response_json)"
      ],
      "metadata": {
        "id": "H3X6lCYFht8E"
      },
      "execution_count": null,
      "outputs": []
    },
    {
      "cell_type": "markdown",
      "source": [
        "### Status Code\n",
        "\n",
        "Status | code\tMeaning\n",
        "-------|---------------------------\n",
        "200    |OK\tRequest was successful.\n",
        "301    |Moved Permanently\tFor SEO purposes when a page has been moved and all link equity should be passed through.\n",
        "401    |Unauthorized\tServer requires authentication.\n",
        "403    |Forbidden\tClient authenticated but does not have permissions to view resource.\n",
        "404    |Not Found\tPage not found because no search results or may be out of stock.\n",
        "500    |Internal Server Error\tServer side error. Usually due to bugs and exceptions thrown on the server side code.\n",
        "503    |Server Unavailable\tServer side error. Usually due to a platform hosting, overload and maintenance issue."
      ],
      "metadata": {
        "id": "5HyazyDeirvK"
      }
    },
    {
      "cell_type": "markdown",
      "source": [
        "![An image](https://bytesofgigabytes.com/IMAGES/Networking/HTTPcommuncation/http%20communication.png)\n",
        "\n"
      ],
      "metadata": {
        "id": "eBD2pnB2iD7h"
      }
    },
    {
      "cell_type": "markdown",
      "source": [
        "Once the server receives an HTTP request, it processes the request and sends an appropriate HTTP response back to the client, which may contain the requested data or indicate the outcome of the request. The client can then interpret the response and take further actions accordingly.\n",
        "\n",
        "HTTP requests and responses form the basis of communication between web browsers and servers, enabling the retrieval and exchange of web resources such as HTML pages, images, videos, and more."
      ],
      "metadata": {
        "id": "BGNKW9jZddb5"
      }
    },
    {
      "cell_type": "markdown",
      "source": [
        "# Rest API's"
      ],
      "metadata": {
        "id": "3PEjie5skU_E"
      }
    },
    {
      "cell_type": "markdown",
      "source": [
        "REST (Representational State Transfer) is an architectural style for designing networked applications. REST APIs (Application Programming Interfaces) are a set of rules and conventions that allow systems to communicate with each other over the internet.\n",
        "\n",
        "A REST API provides a standardized way for clients (such as web browsers, mobile applications, or other servers) to interact with server-side resources in a stateless manner. It allows clients to perform various operations on resources by sending HTTP requests to predefined URLs (known as endpoints) and receiving HTTP responses in return."
      ],
      "metadata": {
        "id": "bfKwiXdjkUUo"
      }
    },
    {
      "cell_type": "markdown",
      "source": [
        "\n",
        "CRUD operations are the basic operations performed on data in many systems, including databases and APIs. CRUD is an acronym that stands for Create, Read, Update, and Delete, representing the four fundamental actions that can be performed on persistent data.\n",
        "1. **Create:** Create refers to the operation of creating new data or resources. It involves inserting a new record. In the context of a REST API, the create operation is typically performed using the **HTTP POST method**.\n",
        "2. **Read:** Read involves retrieving or accessing existing data or resources. It is the operation used to retrieve information from a data store without modifying it. In a REST API, the read operation is commonly performed using the **HTTP GET method.**\n",
        "3. **Update:** Update refers to modifying existing data or resources. It involves changing the values or properties of an existing record. In a REST API, the update operation is typically performed using the **HTTP PUT or PATCH method.**\n",
        "4. **Delete:** Delete involves removing existing data or resources. It is the operation used to delete a record from a data store. In a REST API, the delete operation is commonly performed using the **HTTP DELETE** method."
      ],
      "metadata": {
        "id": "1KtpRYaOW5an"
      }
    },
    {
      "cell_type": "markdown",
      "source": [
        "## Key Principal of REST API's:\n",
        ">Key principles of REST APIs include:"
      ],
      "metadata": {
        "id": "L5aIqIEAaIt6"
      }
    },
    {
      "cell_type": "markdown",
      "source": [
        "### Stateless:\n",
        "The server does not maintain any client-specific state between requests. Each request from the client must contain all the necessary information for the server to process it. The server responds based on the information provided in the request."
      ],
      "metadata": {
        "id": "OtKJiBGvaehd"
      }
    },
    {
      "cell_type": "markdown",
      "source": [
        "### Uniform Interface:\n",
        "REST APIs follow a uniform set of constraints and use standard HTTP methods (GET, POST, PUT, DELETE, PATCH) to perform operations on resources. They also use standard HTTP status codes to indicate the outcome of the request."
      ],
      "metadata": {
        "id": "24jNzyiCazKA"
      }
    },
    {
      "cell_type": "markdown",
      "source": [
        "### Request ID:\n",
        "Each resource has a unique identifier (URI) and can be accessed or manipulated using standard HTTP methods."
      ],
      "metadata": {
        "id": "Aek7J0PYblZ8"
      }
    },
    {
      "cell_type": "markdown",
      "source": [
        "### Representation:\n",
        "Resources in REST APIs are represented using various formats, such as JSON (JavaScript Object Notation) or XML (eXtensible Markup Language). Clients and servers communicate by exchanging representations of these resources."
      ],
      "metadata": {
        "id": "2XZ3wNMsb95U"
      }
    },
    {
      "cell_type": "markdown",
      "source": [
        "### Hypermedia as the Engine of Application State (HATEOAS):\n",
        "REST APIs may include hyperlinks (HATEOAS) in the responses, allowing clients to discover and navigate related resources dynamically."
      ],
      "metadata": {
        "id": "MSRuLNP7cSzg"
      }
    },
    {
      "cell_type": "markdown",
      "source": [
        "REST APIs have become widely adopted due to their simplicity, scalability, and interoperability. They are commonly used in web development to expose data and functionality, enabling different systems to communicate and integrate with each other over the internet.\n"
      ],
      "metadata": {
        "id": "D1XifCbecnCZ"
      }
    },
    {
      "cell_type": "markdown",
      "source": [
        "![An image](https://cdn-ajfbi.nitrocdn.com/GuYcnotRkcKfJXshTEEKnCZTOtUwxDnm/assets/images/optimized/rev-df9c84e/wp-content/uploads/2020/01/rest-600x453.png)"
      ],
      "metadata": {
        "id": "x0PRrKJZdetq"
      }
    },
    {
      "cell_type": "code",
      "source": [
        "import requests\n",
        "\n",
        "url = \"https://quotes15.p.rapidapi.com/quotes/random/\"\n",
        "\n",
        "headers = {\n",
        "\t\"X-RapidAPI-Key\": \"c8f979d1c9mshf087da133c07655p157502jsnd1bcad804d03\",\n",
        "\t\"X-RapidAPI-Host\": \"quotes15.p.rapidapi.com\"\n",
        "}\n",
        "\n",
        "response = requests.get(url, headers=headers)\n",
        "\n",
        "print(response.json())"
      ],
      "metadata": {
        "id": "LZwLi8uwaHI_"
      },
      "execution_count": null,
      "outputs": []
    },
    {
      "cell_type": "markdown",
      "source": [
        "REST APIs have become widely adopted due to their simplicity, scalability, and interoperability. They are commonly used in web development to expose data and functionality, enabling different systems to communicate and integrate with each other over the internet."
      ],
      "metadata": {
        "id": "aUd0UtCgkT9j"
      }
    },
    {
      "cell_type": "code",
      "source": [],
      "metadata": {
        "id": "NLlKLcBiilg0"
      },
      "execution_count": null,
      "outputs": []
    }
  ]
}