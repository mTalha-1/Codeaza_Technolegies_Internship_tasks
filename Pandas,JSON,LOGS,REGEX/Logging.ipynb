{
 "cells": [
  {
   "cell_type": "code",
   "execution_count": 1,
   "id": "f6c14b8e",
   "metadata": {},
   "outputs": [],
   "source": [
    "import logging"
   ]
  },
  {
   "cell_type": "code",
   "execution_count": 2,
   "id": "0c34cda1",
   "metadata": {},
   "outputs": [
    {
     "name": "stderr",
     "output_type": "stream",
     "text": [
      "2023-07-08 09:08:26,259 - DEBUG - This is a debug message\n",
      "2023-07-08 09:08:26,265 - INFO - This is an info message\n",
      "2023-07-08 09:08:26,267 - WARNING - This is a warning message\n",
      "2023-07-08 09:08:26,269 - ERROR - This is an error message\n",
      "2023-07-08 09:08:26,271 - CRITICAL - This is a critical message\n"
     ]
    }
   ],
   "source": [
    "# Configure the logging\n",
    "logging.basicConfig(level=logging.DEBUG, format='%(asctime)s - %(levelname)s - %(message)s')\n",
    "\n",
    "# Start logging\n",
    "logging.debug('This is a debug message')\n",
    "logging.info('This is an info message')\n",
    "logging.warning('This is a warning message')\n",
    "logging.error('This is an error message')\n",
    "logging.critical('This is a critical message')"
   ]
  },
  {
   "cell_type": "code",
   "execution_count": 5,
   "id": "9f7de320",
   "metadata": {},
   "outputs": [
    {
     "name": "stdout",
     "output_type": "stream",
     "text": [
      "Talha\n"
     ]
    },
    {
     "name": "stderr",
     "output_type": "stream",
     "text": [
      "2023-07-08 09:12:57,956 - INFO - Successful\n"
     ]
    }
   ],
   "source": [
    "# Configure the logging to write to a file\n",
    "logging.basicConfig(filename='app.log', level=logging.DEBUG, format='%(asctime)s - %(levelname)s - %(message)s')\n",
    "name  = input()\n",
    "if name.isupper:\n",
    "    logging.info('Successful')\n",
    "else:\n",
    "    logging.error('Name should upper')\n"
   ]
  },
  {
   "cell_type": "code",
   "execution_count": 6,
   "id": "ce7f1778",
   "metadata": {},
   "outputs": [
    {
     "name": "stderr",
     "output_type": "stream",
     "text": [
      "2023-07-08 09:15:48,692 - ERROR - An exception occurred\n",
      "Traceback (most recent call last):\n",
      "  File \"C:\\Users\\dell\\AppData\\Local\\Temp\\ipykernel_6692\\2438604535.py\", line 4, in <module>\n",
      "    check = 2/0\n",
      "ZeroDivisionError: division by zero\n"
     ]
    }
   ],
   "source": [
    "\n",
    "logging.basicConfig(level=logging.ERROR)\n",
    "\n",
    "try:\n",
    "    check = 2/0\n",
    "    raise ValueError('An error occurred!')\n",
    "except Exception as e:\n",
    "    logging.exception('An exception occurred')"
   ]
  },
  {
   "cell_type": "code",
   "execution_count": null,
   "id": "a6b46d7f",
   "metadata": {},
   "outputs": [],
   "source": []
  }
 ],
 "metadata": {
  "kernelspec": {
   "display_name": "Python 3 (ipykernel)",
   "language": "python",
   "name": "python3"
  },
  "language_info": {
   "codemirror_mode": {
    "name": "ipython",
    "version": 3
   },
   "file_extension": ".py",
   "mimetype": "text/x-python",
   "name": "python",
   "nbconvert_exporter": "python",
   "pygments_lexer": "ipython3",
   "version": "3.10.5"
  }
 },
 "nbformat": 4,
 "nbformat_minor": 5
}
