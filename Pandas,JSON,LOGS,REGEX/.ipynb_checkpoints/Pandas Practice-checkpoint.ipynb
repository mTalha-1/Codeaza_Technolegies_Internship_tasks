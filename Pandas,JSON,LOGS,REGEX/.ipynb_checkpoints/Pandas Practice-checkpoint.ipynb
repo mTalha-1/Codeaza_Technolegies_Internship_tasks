{
 "cells": [
  {
   "cell_type": "code",
   "execution_count": 1,
   "id": "d59c37c6",
   "metadata": {},
   "outputs": [],
   "source": [
    "from urllib.request import urlretrieve"
   ]
  },
  {
   "cell_type": "code",
   "execution_count": 2,
   "id": "b6051fc2",
   "metadata": {},
   "outputs": [
    {
     "data": {
      "text/plain": [
       "('italy-covid-daywise.csv', <http.client.HTTPMessage at 0x204a72fe770>)"
      ]
     },
     "execution_count": 2,
     "metadata": {},
     "output_type": "execute_result"
    }
   ],
   "source": [
    "italy_covid_url = 'https://gist.githubusercontent.com/aakashns/f6a004fa20c84fec53262f9a8bfee775/raw/f309558b1cf5103424cef58e2ecb8704dcd4d74c/italy-covid-daywise.csv'\n",
    "\n",
    "urlretrieve(italy_covid_url, 'italy-covid-daywise.csv')"
   ]
  },
  {
   "cell_type": "code",
   "execution_count": null,
   "id": "ba0f3d30",
   "metadata": {},
   "outputs": [],
   "source": [
    "import pandas as pd"
   ]
  },
  {
   "cell_type": "code",
   "execution_count": null,
   "id": "00e35e91",
   "metadata": {},
   "outputs": [],
   "source": [
    "covid_df = pd.read_csv('italy-covid-daywise.csv')"
   ]
  },
  {
   "cell_type": "markdown",
   "id": "b5977b4c",
   "metadata": {},
   "source": [
    "# DataFrame Baic Information"
   ]
  },
  {
   "cell_type": "code",
   "execution_count": null,
   "id": "35778a9e",
   "metadata": {},
   "outputs": [],
   "source": [
    "covid_df"
   ]
  },
  {
   "cell_type": "code",
   "execution_count": null,
   "id": "1e60e803",
   "metadata": {},
   "outputs": [],
   "source": [
    "covid_df.info()"
   ]
  },
  {
   "cell_type": "code",
   "execution_count": null,
   "id": "e3daa746",
   "metadata": {
    "scrolled": false
   },
   "outputs": [],
   "source": [
    "covid_df.describe()"
   ]
  },
  {
   "cell_type": "code",
   "execution_count": null,
   "id": "08647e62",
   "metadata": {},
   "outputs": [],
   "source": [
    "covid_df.columns"
   ]
  },
  {
   "cell_type": "code",
   "execution_count": null,
   "id": "0bcb0330",
   "metadata": {},
   "outputs": [],
   "source": [
    "covid_df.shape"
   ]
  },
  {
   "cell_type": "markdown",
   "id": "59a73499",
   "metadata": {},
   "source": [
    "# Retrieving Data From Data Framee"
   ]
  },
  {
   "cell_type": "code",
   "execution_count": null,
   "id": "bc17137b",
   "metadata": {},
   "outputs": [],
   "source": [
    "covid_df"
   ]
  },
  {
   "cell_type": "code",
   "execution_count": null,
   "id": "5172606a",
   "metadata": {},
   "outputs": [],
   "source": [
    "covid_df['new_cases']"
   ]
  },
  {
   "cell_type": "code",
   "execution_count": null,
   "id": "ddf61213",
   "metadata": {},
   "outputs": [],
   "source": [
    "type(covid_df['new_cases'])"
   ]
  },
  {
   "cell_type": "code",
   "execution_count": null,
   "id": "e91756dc",
   "metadata": {},
   "outputs": [],
   "source": [
    "covid_df['new_cases'][245]"
   ]
  },
  {
   "cell_type": "code",
   "execution_count": null,
   "id": "df2aa3dc",
   "metadata": {},
   "outputs": [],
   "source": [
    "covid_df['new_tests'][243]"
   ]
  },
  {
   "cell_type": "code",
   "execution_count": null,
   "id": "f98283d1",
   "metadata": {},
   "outputs": [],
   "source": [
    "covid_df.at[246,'new_cases']"
   ]
  },
  {
   "cell_type": "code",
   "execution_count": null,
   "id": "80a23e31",
   "metadata": {},
   "outputs": [],
   "source": [
    "covid_df.new_cases"
   ]
  },
  {
   "cell_type": "code",
   "execution_count": null,
   "id": "09a9bee7",
   "metadata": {},
   "outputs": [],
   "source": [
    "covid_df.new_cases[245]"
   ]
  },
  {
   "cell_type": "code",
   "execution_count": null,
   "id": "8f647d6c",
   "metadata": {},
   "outputs": [],
   "source": [
    "cases_df = covid_df[['date','new_cases']]"
   ]
  },
  {
   "cell_type": "code",
   "execution_count": null,
   "id": "7359c49a",
   "metadata": {},
   "outputs": [],
   "source": [
    "cases_df"
   ]
  },
  {
   "cell_type": "code",
   "execution_count": null,
   "id": "e6f70aa6",
   "metadata": {},
   "outputs": [],
   "source": [
    "cases_df.new_cases[0] = 2.0"
   ]
  },
  {
   "cell_type": "code",
   "execution_count": null,
   "id": "5e518702",
   "metadata": {},
   "outputs": [],
   "source": [
    "covid_df.new_cases[0] =  3.0"
   ]
  },
  {
   "cell_type": "code",
   "execution_count": null,
   "id": "9d8f45e3",
   "metadata": {},
   "outputs": [],
   "source": [
    "covid_df"
   ]
  },
  {
   "cell_type": "code",
   "execution_count": null,
   "id": "88a10052",
   "metadata": {},
   "outputs": [],
   "source": [
    "covid_df_copy = covid_df.copy()"
   ]
  },
  {
   "cell_type": "code",
   "execution_count": null,
   "id": "5a311cc7",
   "metadata": {},
   "outputs": [],
   "source": [
    "covid_df_copy.new_cases[1] = 4"
   ]
  },
  {
   "cell_type": "code",
   "execution_count": null,
   "id": "594a3d09",
   "metadata": {},
   "outputs": [],
   "source": [
    "covid_df_copy.head()"
   ]
  },
  {
   "cell_type": "code",
   "execution_count": null,
   "id": "8ecbacef",
   "metadata": {},
   "outputs": [],
   "source": [
    "covid_df.head()"
   ]
  },
  {
   "cell_type": "code",
   "execution_count": null,
   "id": "06d9517b",
   "metadata": {},
   "outputs": [],
   "source": [
    "covid_df.loc[243]"
   ]
  },
  {
   "cell_type": "code",
   "execution_count": null,
   "id": "f92eb8e5",
   "metadata": {},
   "outputs": [],
   "source": [
    "type(covid_df.loc[243])"
   ]
  },
  {
   "cell_type": "code",
   "execution_count": null,
   "id": "2a95cf25",
   "metadata": {},
   "outputs": [],
   "source": [
    "covid_df.loc[1:5:2]"
   ]
  },
  {
   "cell_type": "code",
   "execution_count": null,
   "id": "ab03f516",
   "metadata": {
    "scrolled": true
   },
   "outputs": [],
   "source": [
    "covid_df.loc[1:5:2,'new_cases']"
   ]
  },
  {
   "cell_type": "code",
   "execution_count": null,
   "id": "1e814643",
   "metadata": {},
   "outputs": [],
   "source": [
    "covid_df.iloc[1:100:3,1:3]"
   ]
  },
  {
   "cell_type": "code",
   "execution_count": null,
   "id": "c64f3b13",
   "metadata": {},
   "outputs": [],
   "source": [
    "covid_df.head(5)"
   ]
  },
  {
   "cell_type": "code",
   "execution_count": null,
   "id": "6279ec3e",
   "metadata": {},
   "outputs": [],
   "source": [
    "covid_df.tail(5)"
   ]
  },
  {
   "cell_type": "code",
   "execution_count": null,
   "id": "880e5bca",
   "metadata": {},
   "outputs": [],
   "source": [
    "covid_df.new_tests.first_valid_index()"
   ]
  },
  {
   "cell_type": "code",
   "execution_count": null,
   "id": "e324c31a",
   "metadata": {},
   "outputs": [],
   "source": [
    "covid_df.sample(10)"
   ]
  },
  {
   "cell_type": "markdown",
   "id": "4579652b",
   "metadata": {},
   "source": [
    "# Analyzing Data from data frame"
   ]
  },
  {
   "cell_type": "markdown",
   "id": "8174f62e",
   "metadata": {},
   "source": [
    "### Total number of cases and deaths reported in italy?"
   ]
  },
  {
   "cell_type": "code",
   "execution_count": null,
   "id": "3b4104ed",
   "metadata": {},
   "outputs": [],
   "source": [
    "tota_cases  =  covid_df.new_cases.sum()\n",
    "total_deaths = covid_df.new_deaths.sum()"
   ]
  },
  {
   "cell_type": "code",
   "execution_count": null,
   "id": "61a76691",
   "metadata": {},
   "outputs": [],
   "source": [
    "tota_cases"
   ]
  },
  {
   "cell_type": "code",
   "execution_count": null,
   "id": "a29ce55f",
   "metadata": {},
   "outputs": [],
   "source": [
    "total_deaths"
   ]
  },
  {
   "cell_type": "code",
   "execution_count": null,
   "id": "4692352f",
   "metadata": {},
   "outputs": [],
   "source": [
    "print(f\"The number of reported cases is {tota_cases} and the number of reprted deaths is {total_deaths}\" )"
   ]
  },
  {
   "cell_type": "markdown",
   "id": "b59c5bc4",
   "metadata": {},
   "source": [
    "### overall death ratio"
   ]
  },
  {
   "cell_type": "code",
   "execution_count": null,
   "id": "14c131f5",
   "metadata": {},
   "outputs": [],
   "source": [
    "covid_ratio = total_deaths/tota_cases\n",
    "print(f\"The overall death ratio is {covid_ratio:.2f}\")"
   ]
  },
  {
   "cell_type": "markdown",
   "id": "4bf3e9f9",
   "metadata": {},
   "source": [
    "### overall number of tests conducted? where total test is 935310 before daily test conducted"
   ]
  },
  {
   "cell_type": "code",
   "execution_count": null,
   "id": "cf1c3b83",
   "metadata": {},
   "outputs": [],
   "source": [
    "initial_tests = 935310\n",
    "total_test = initial_tests + covid_df.new_tests.sum()\n",
    "total_test"
   ]
  },
  {
   "cell_type": "markdown",
   "id": "c3cb1e44",
   "metadata": {},
   "source": [
    "### fraction of positive result"
   ]
  },
  {
   "cell_type": "code",
   "execution_count": null,
   "id": "71864453",
   "metadata": {},
   "outputs": [],
   "source": [
    "positive_cases = tota_cases / total_test\n",
    "print(f\"The fraction of positive result is {positive_cases:.2f} \")"
   ]
  },
  {
   "cell_type": "markdown",
   "id": "0ec78d0c",
   "metadata": {},
   "source": [
    "# Querying and sorting rows"
   ]
  },
  {
   "cell_type": "code",
   "execution_count": null,
   "id": "26261b2f",
   "metadata": {},
   "outputs": [],
   "source": [
    "high_new_cases = covid_df.new_cases >1000"
   ]
  },
  {
   "cell_type": "code",
   "execution_count": null,
   "id": "543eb2d5",
   "metadata": {},
   "outputs": [],
   "source": [
    "high_new_cases"
   ]
  },
  {
   "cell_type": "code",
   "execution_count": null,
   "id": "cc2590bc",
   "metadata": {},
   "outputs": [],
   "source": [
    "covid_df[high_new_cases]"
   ]
  },
  {
   "cell_type": "code",
   "execution_count": null,
   "id": "dfda86a3",
   "metadata": {},
   "outputs": [],
   "source": [
    "high_new_cases = covid_df[covid_df.new_cases > 1000]\n",
    "high_new_cases"
   ]
  },
  {
   "cell_type": "code",
   "execution_count": null,
   "id": "811c21c3",
   "metadata": {},
   "outputs": [],
   "source": [
    "high_ratio_df = covid_df[covid_df.new_cases/covid_df.new_tests >positive_cases]\n",
    "high_ratio_df"
   ]
  },
  {
   "cell_type": "code",
   "execution_count": null,
   "id": "76f58fbe",
   "metadata": {},
   "outputs": [],
   "source": [
    "covid_df.new_cases/covid_df.new_tests"
   ]
  },
  {
   "cell_type": "code",
   "execution_count": null,
   "id": "becffccd",
   "metadata": {},
   "outputs": [],
   "source": [
    "covid_df['positive_rate']=covid_df.new_cases/covid_df.new_tests"
   ]
  },
  {
   "cell_type": "code",
   "execution_count": null,
   "id": "85e733c5",
   "metadata": {},
   "outputs": [],
   "source": [
    "covid_df"
   ]
  },
  {
   "cell_type": "code",
   "execution_count": null,
   "id": "2292d46b",
   "metadata": {},
   "outputs": [],
   "source": [
    "covid_df.drop(columns='positive_rate',inplace=True)"
   ]
  },
  {
   "cell_type": "code",
   "execution_count": null,
   "id": "1b299230",
   "metadata": {},
   "outputs": [],
   "source": [
    "covid_df"
   ]
  },
  {
   "cell_type": "markdown",
   "id": "98cf9f40",
   "metadata": {},
   "source": [
    "## Sorting using columns"
   ]
  },
  {
   "cell_type": "code",
   "execution_count": null,
   "id": "0d0967c7",
   "metadata": {},
   "outputs": [],
   "source": [
    "covid_df.sort_values('new_cases').head(10)"
   ]
  },
  {
   "cell_type": "code",
   "execution_count": null,
   "id": "0df55879",
   "metadata": {},
   "outputs": [],
   "source": [
    "covid_df.sort_values('new_cases',ascending = False).head(10)"
   ]
  },
  {
   "cell_type": "markdown",
   "id": "621a3f4d",
   "metadata": {},
   "source": [
    "## Working with Dates"
   ]
  },
  {
   "cell_type": "code",
   "execution_count": null,
   "id": "058fae4f",
   "metadata": {},
   "outputs": [],
   "source": [
    "covid_df.date"
   ]
  },
  {
   "cell_type": "code",
   "execution_count": null,
   "id": "3e52a63c",
   "metadata": {},
   "outputs": [],
   "source": [
    "(covid_df.date.dtype)"
   ]
  },
  {
   "cell_type": "code",
   "execution_count": null,
   "id": "c444e14f",
   "metadata": {},
   "outputs": [],
   "source": [
    "covid_df['date'] = pd.to_datetime(covid_df.date)"
   ]
  },
  {
   "cell_type": "code",
   "execution_count": null,
   "id": "30e187de",
   "metadata": {},
   "outputs": [],
   "source": [
    "covid_df"
   ]
  },
  {
   "cell_type": "code",
   "execution_count": null,
   "id": "0b93a202",
   "metadata": {},
   "outputs": [],
   "source": [
    "covid_df['date']"
   ]
  },
  {
   "cell_type": "code",
   "execution_count": null,
   "id": "7bd1979f",
   "metadata": {},
   "outputs": [],
   "source": [
    "covid_df['Year'] = pd.DatetimeIndex(covid_df.date).year\n"
   ]
  },
  {
   "cell_type": "code",
   "execution_count": null,
   "id": "b3b28d08",
   "metadata": {},
   "outputs": [],
   "source": [
    "covid_df['Month'] = pd.DatetimeIndex(covid_df.date).month\n",
    "covid_df['Day'] = pd.DatetimeIndex(covid_df.date).day\n",
    "covid_df['WeekDay'] = pd.DatetimeIndex(covid_df.date).weekday"
   ]
  },
  {
   "cell_type": "code",
   "execution_count": null,
   "id": "fc599c96",
   "metadata": {},
   "outputs": [],
   "source": [
    "covid_df"
   ]
  },
  {
   "cell_type": "code",
   "execution_count": null,
   "id": "6b53cfb4",
   "metadata": {},
   "outputs": [],
   "source": [
    "covid_df_may = covid_df[covid_df.Month == 5]\n",
    "covid_df_may"
   ]
  },
  {
   "cell_type": "code",
   "execution_count": null,
   "id": "d45cb175",
   "metadata": {},
   "outputs": [],
   "source": [
    "covid_df_may_matrices = covid_df_may[['new_cases','new_deaths','new_tests']]"
   ]
  },
  {
   "cell_type": "code",
   "execution_count": null,
   "id": "8684d3e7",
   "metadata": {},
   "outputs": [],
   "source": [
    "covid_df_may_matrices"
   ]
  },
  {
   "cell_type": "code",
   "execution_count": null,
   "id": "4140d3b6",
   "metadata": {},
   "outputs": [],
   "source": [
    "covid_df_may_total = covid_df_may_matrices.sum()"
   ]
  },
  {
   "cell_type": "code",
   "execution_count": null,
   "id": "9b4bbf4c",
   "metadata": {},
   "outputs": [],
   "source": [
    "covid_df_may_total"
   ]
  },
  {
   "cell_type": "markdown",
   "id": "dc478b9e",
   "metadata": {},
   "source": [
    "## Grouping and Aggregation"
   ]
  },
  {
   "cell_type": "code",
   "execution_count": null,
   "id": "712347f8",
   "metadata": {},
   "outputs": [],
   "source": [
    "covid_month_df = covid_df.groupby('Month')[['new_cases','new_deaths','new_tests']].sum()"
   ]
  },
  {
   "cell_type": "code",
   "execution_count": null,
   "id": "bdfd026a",
   "metadata": {},
   "outputs": [],
   "source": [
    "covid_month_df"
   ]
  },
  {
   "cell_type": "code",
   "execution_count": null,
   "id": "cf1dc3c5",
   "metadata": {},
   "outputs": [],
   "source": [
    "covid_df['total_cases']= covid_df.new_cases.cumsum()\n",
    "covid_df['total_deaths'] = covid_df.new_deaths.cumsum()\n",
    "covid_df['total_tests'] = covid_df.new_tests.cumsum()"
   ]
  },
  {
   "cell_type": "code",
   "execution_count": null,
   "id": "29121899",
   "metadata": {},
   "outputs": [],
   "source": [
    "covid_df.drop(columns=['total_cases','total_deaths'],inplace=True)"
   ]
  },
  {
   "cell_type": "code",
   "execution_count": null,
   "id": "17a6837b",
   "metadata": {},
   "outputs": [],
   "source": [
    "covid_df"
   ]
  },
  {
   "cell_type": "markdown",
   "id": "2f3c71f9",
   "metadata": {},
   "source": [
    "## Merging Data from different source"
   ]
  },
  {
   "cell_type": "code",
   "execution_count": null,
   "id": "6b1817bd",
   "metadata": {},
   "outputs": [],
   "source": [
    "urlretrieve('https://gist.githubusercontent.com/aakashns/8684589ef4f266116cdce023377fc9c8/raw/99ce3826b2a9d1e6d0bde7e9e559fc8b6e9ac88b/locations.csv', \n",
    "            'locations.csv')"
   ]
  },
  {
   "cell_type": "code",
   "execution_count": null,
   "id": "b9b3fdf4",
   "metadata": {},
   "outputs": [],
   "source": [
    "location_df = pd.read_csv('locations.csv')\n",
    "location_df"
   ]
  },
  {
   "cell_type": "code",
   "execution_count": null,
   "id": "4e2b7886",
   "metadata": {},
   "outputs": [],
   "source": [
    "covid_df['location'] = \"Italy\""
   ]
  },
  {
   "cell_type": "code",
   "execution_count": null,
   "id": "5792315f",
   "metadata": {},
   "outputs": [],
   "source": [
    "covid_df"
   ]
  },
  {
   "cell_type": "code",
   "execution_count": null,
   "id": "b08c781d",
   "metadata": {},
   "outputs": [],
   "source": [
    "merged_df = covid_df.merge(location_df, on = 'location')"
   ]
  },
  {
   "cell_type": "code",
   "execution_count": null,
   "id": "426d89f6",
   "metadata": {},
   "outputs": [],
   "source": [
    "merged_df"
   ]
  },
  {
   "cell_type": "code",
   "execution_count": null,
   "id": "6c019e19",
   "metadata": {},
   "outputs": [],
   "source": []
  }
 ],
 "metadata": {
  "kernelspec": {
   "display_name": "Python 3 (ipykernel)",
   "language": "python",
   "name": "python3"
  },
  "language_info": {
   "codemirror_mode": {
    "name": "ipython",
    "version": 3
   },
   "file_extension": ".py",
   "mimetype": "text/x-python",
   "name": "python",
   "nbconvert_exporter": "python",
   "pygments_lexer": "ipython3",
   "version": "3.10.5"
  }
 },
 "nbformat": 4,
 "nbformat_minor": 5
}
